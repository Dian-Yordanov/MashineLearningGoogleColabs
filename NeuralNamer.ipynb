{
  "nbformat": 4,
  "nbformat_minor": 0,
  "metadata": {
    "colab": {
      "name": "NeuralNamer.ipynb",
      "version": "0.3.2",
      "provenance": [],
      "include_colab_link": true
    },
    "kernelspec": {
      "name": "python3",
      "display_name": "Python 3"
    }
  },
  "cells": [
    {
      "cell_type": "markdown",
      "metadata": {
        "id": "view-in-github",
        "colab_type": "text"
      },
      "source": [
        "<a href=\"https://colab.research.google.com/github/Xynnect/MashineLearningGoogleColabs/blob/master/NeuralNamer.ipynb\" target=\"_parent\"><img src=\"https://colab.research.google.com/assets/colab-badge.svg\" alt=\"Open In Colab\"/></a>"
      ]
    },
    {
      "cell_type": "code",
      "metadata": {
        "id": "lIt1oFv4114x",
        "colab_type": "code",
        "colab": {
          "base_uri": "https://localhost:8080/",
          "height": 3536
        },
        "outputId": "18daa9fe-05aa-4e03-fb05-9f033afe1c4a"
      },
      "source": [
        "!git clone https://github.com/AlexEngelhardt/startup-name-generator.git\n",
        "%cd startup-name-generator\n",
        "!python setup.py install"
      ],
      "execution_count": 1,
      "outputs": [
        {
          "output_type": "stream",
          "text": [
            "Cloning into 'startup-name-generator'...\n",
            "remote: Enumerating objects: 259, done.\u001b[K\n",
            "remote: Total 259 (delta 0), reused 0 (delta 0), pack-reused 259\u001b[K\n",
            "Receiving objects: 100% (259/259), 2.18 MiB | 25.96 MiB/s, done.\n",
            "Resolving deltas: 100% (132/132), done.\n",
            "/content/startup-name-generator\n",
            "Using TensorFlow backend.\n",
            "running install\n",
            "running bdist_egg\n",
            "running egg_info\n",
            "creating sng.egg-info\n",
            "writing sng.egg-info/PKG-INFO\n",
            "writing dependency_links to sng.egg-info/dependency_links.txt\n",
            "writing requirements to sng.egg-info/requires.txt\n",
            "writing top-level names to sng.egg-info/top_level.txt\n",
            "writing manifest file 'sng.egg-info/SOURCES.txt'\n",
            "reading manifest template 'MANIFEST.in'\n",
            "writing manifest file 'sng.egg-info/SOURCES.txt'\n",
            "installing library code to build/bdist.linux-x86_64/egg\n",
            "running install_lib\n",
            "running build_py\n",
            "creating build\n",
            "creating build/lib\n",
            "creating build/lib/sng\n",
            "copying sng/__init__.py -> build/lib/sng\n",
            "copying sng/builtin_wordlists.py -> build/lib/sng\n",
            "copying sng/Generator.py -> build/lib/sng\n",
            "copying sng/Config.py -> build/lib/sng\n",
            "copying sng/helpers.py -> build/lib/sng\n",
            "creating build/lib/sng/wordlists\n",
            "copying sng/wordlists/behemoth.txt -> build/lib/sng/wordlists\n",
            "copying sng/wordlists/black-speech.txt -> build/lib/sng/wordlists\n",
            "copying sng/wordlists/english.txt -> build/lib/sng/wordlists\n",
            "copying sng/wordlists/french.txt -> build/lib/sng/wordlists\n",
            "copying sng/wordlists/gallic.txt -> build/lib/sng/wordlists\n",
            "copying sng/wordlists/german.txt -> build/lib/sng/wordlists\n",
            "copying sng/wordlists/greek.txt -> build/lib/sng/wordlists\n",
            "copying sng/wordlists/latin.txt -> build/lib/sng/wordlists\n",
            "copying sng/wordlists/lorem-ipsum.txt -> build/lib/sng/wordlists\n",
            "copying sng/wordlists/pokemon.txt -> build/lib/sng/wordlists\n",
            "creating build/bdist.linux-x86_64\n",
            "creating build/bdist.linux-x86_64/egg\n",
            "creating build/bdist.linux-x86_64/egg/sng\n",
            "copying build/lib/sng/__init__.py -> build/bdist.linux-x86_64/egg/sng\n",
            "copying build/lib/sng/builtin_wordlists.py -> build/bdist.linux-x86_64/egg/sng\n",
            "creating build/bdist.linux-x86_64/egg/sng/wordlists\n",
            "copying build/lib/sng/wordlists/behemoth.txt -> build/bdist.linux-x86_64/egg/sng/wordlists\n",
            "copying build/lib/sng/wordlists/pokemon.txt -> build/bdist.linux-x86_64/egg/sng/wordlists\n",
            "copying build/lib/sng/wordlists/german.txt -> build/bdist.linux-x86_64/egg/sng/wordlists\n",
            "copying build/lib/sng/wordlists/french.txt -> build/bdist.linux-x86_64/egg/sng/wordlists\n",
            "copying build/lib/sng/wordlists/black-speech.txt -> build/bdist.linux-x86_64/egg/sng/wordlists\n",
            "copying build/lib/sng/wordlists/lorem-ipsum.txt -> build/bdist.linux-x86_64/egg/sng/wordlists\n",
            "copying build/lib/sng/wordlists/greek.txt -> build/bdist.linux-x86_64/egg/sng/wordlists\n",
            "copying build/lib/sng/wordlists/latin.txt -> build/bdist.linux-x86_64/egg/sng/wordlists\n",
            "copying build/lib/sng/wordlists/gallic.txt -> build/bdist.linux-x86_64/egg/sng/wordlists\n",
            "copying build/lib/sng/wordlists/english.txt -> build/bdist.linux-x86_64/egg/sng/wordlists\n",
            "copying build/lib/sng/Generator.py -> build/bdist.linux-x86_64/egg/sng\n",
            "copying build/lib/sng/Config.py -> build/bdist.linux-x86_64/egg/sng\n",
            "copying build/lib/sng/helpers.py -> build/bdist.linux-x86_64/egg/sng\n",
            "byte-compiling build/bdist.linux-x86_64/egg/sng/__init__.py to __init__.cpython-36.pyc\n",
            "byte-compiling build/bdist.linux-x86_64/egg/sng/builtin_wordlists.py to builtin_wordlists.cpython-36.pyc\n",
            "byte-compiling build/bdist.linux-x86_64/egg/sng/Generator.py to Generator.cpython-36.pyc\n",
            "byte-compiling build/bdist.linux-x86_64/egg/sng/Config.py to Config.cpython-36.pyc\n",
            "byte-compiling build/bdist.linux-x86_64/egg/sng/helpers.py to helpers.cpython-36.pyc\n",
            "creating build/bdist.linux-x86_64/egg/EGG-INFO\n",
            "copying sng.egg-info/PKG-INFO -> build/bdist.linux-x86_64/egg/EGG-INFO\n",
            "copying sng.egg-info/SOURCES.txt -> build/bdist.linux-x86_64/egg/EGG-INFO\n",
            "copying sng.egg-info/dependency_links.txt -> build/bdist.linux-x86_64/egg/EGG-INFO\n",
            "copying sng.egg-info/not-zip-safe -> build/bdist.linux-x86_64/egg/EGG-INFO\n",
            "copying sng.egg-info/requires.txt -> build/bdist.linux-x86_64/egg/EGG-INFO\n",
            "copying sng.egg-info/top_level.txt -> build/bdist.linux-x86_64/egg/EGG-INFO\n",
            "creating dist\n",
            "creating 'dist/sng-0.3.2-py3.6.egg' and adding 'build/bdist.linux-x86_64/egg' to it\n",
            "removing 'build/bdist.linux-x86_64/egg' (and everything under it)\n",
            "Processing sng-0.3.2-py3.6.egg\n",
            "creating /usr/local/lib/python3.6/dist-packages/sng-0.3.2-py3.6.egg\n",
            "Extracting sng-0.3.2-py3.6.egg to /usr/local/lib/python3.6/dist-packages\n",
            "Adding sng 0.3.2 to easy-install.pth file\n",
            "\n",
            "Installed /usr/local/lib/python3.6/dist-packages/sng-0.3.2-py3.6.egg\n",
            "Processing dependencies for sng==0.3.2\n",
            "Searching for numpy==1.16.3\n",
            "Best match: numpy 1.16.3\n",
            "Adding numpy 1.16.3 to easy-install.pth file\n",
            "Installing f2py script to /usr/local/bin\n",
            "Installing f2py3 script to /usr/local/bin\n",
            "Installing f2py3.6 script to /usr/local/bin\n",
            "\n",
            "Using /usr/local/lib/python3.6/dist-packages\n",
            "Searching for tensorflow==1.13.1\n",
            "Best match: tensorflow 1.13.1\n",
            "Adding tensorflow 1.13.1 to easy-install.pth file\n",
            "Installing freeze_graph script to /usr/local/bin\n",
            "Installing saved_model_cli script to /usr/local/bin\n",
            "Installing tensorboard script to /usr/local/bin\n",
            "Installing tf_upgrade_v2 script to /usr/local/bin\n",
            "Installing tflite_convert script to /usr/local/bin\n",
            "Installing toco script to /usr/local/bin\n",
            "Installing toco_from_protos script to /usr/local/bin\n",
            "\n",
            "Using /usr/local/lib/python3.6/dist-packages\n",
            "Searching for Keras==2.2.4\n",
            "Best match: Keras 2.2.4\n",
            "Adding Keras 2.2.4 to easy-install.pth file\n",
            "\n",
            "Using /usr/local/lib/python3.6/dist-packages\n",
            "Searching for PyYAML==3.13\n",
            "Best match: PyYAML 3.13\n",
            "Adding PyYAML 3.13 to easy-install.pth file\n",
            "\n",
            "Using /usr/local/lib/python3.6/dist-packages\n",
            "Searching for termcolor==1.1.0\n",
            "Best match: termcolor 1.1.0\n",
            "Adding termcolor 1.1.0 to easy-install.pth file\n",
            "\n",
            "Using /usr/local/lib/python3.6/dist-packages\n",
            "Searching for wheel==0.33.4\n",
            "Best match: wheel 0.33.4\n",
            "Adding wheel 0.33.4 to easy-install.pth file\n",
            "Installing wheel script to /usr/local/bin\n",
            "\n",
            "Using /usr/local/lib/python3.6/dist-packages\n",
            "Searching for gast==0.2.2\n",
            "Best match: gast 0.2.2\n",
            "Adding gast 0.2.2 to easy-install.pth file\n",
            "\n",
            "Using /usr/local/lib/python3.6/dist-packages\n",
            "Searching for absl-py==0.7.1\n",
            "Best match: absl-py 0.7.1\n",
            "Adding absl-py 0.7.1 to easy-install.pth file\n",
            "\n",
            "Using /usr/local/lib/python3.6/dist-packages\n",
            "Searching for tensorboard==1.13.1\n",
            "Best match: tensorboard 1.13.1\n",
            "Adding tensorboard 1.13.1 to easy-install.pth file\n",
            "Installing tensorboard script to /usr/local/bin\n",
            "\n",
            "Using /usr/local/lib/python3.6/dist-packages\n",
            "Searching for six==1.12.0\n",
            "Best match: six 1.12.0\n",
            "Adding six 1.12.0 to easy-install.pth file\n",
            "\n",
            "Using /usr/local/lib/python3.6/dist-packages\n",
            "Searching for tensorflow-estimator==1.13.0\n",
            "Best match: tensorflow-estimator 1.13.0\n",
            "Adding tensorflow-estimator 1.13.0 to easy-install.pth file\n",
            "\n",
            "Using /usr/local/lib/python3.6/dist-packages\n",
            "Searching for Keras-Applications==1.0.7\n",
            "Best match: Keras-Applications 1.0.7\n",
            "Adding Keras-Applications 1.0.7 to easy-install.pth file\n",
            "\n",
            "Using /usr/local/lib/python3.6/dist-packages\n",
            "Searching for grpcio==1.15.0\n",
            "Best match: grpcio 1.15.0\n",
            "Adding grpcio 1.15.0 to easy-install.pth file\n",
            "\n",
            "Using /usr/local/lib/python3.6/dist-packages\n",
            "Searching for Keras-Preprocessing==1.0.9\n",
            "Best match: Keras-Preprocessing 1.0.9\n",
            "Adding Keras-Preprocessing 1.0.9 to easy-install.pth file\n",
            "\n",
            "Using /usr/local/lib/python3.6/dist-packages\n",
            "Searching for protobuf==3.7.1\n",
            "Best match: protobuf 3.7.1\n",
            "Adding protobuf 3.7.1 to easy-install.pth file\n",
            "\n",
            "Using /usr/local/lib/python3.6/dist-packages\n",
            "Searching for astor==0.7.1\n",
            "Best match: astor 0.7.1\n",
            "Adding astor 0.7.1 to easy-install.pth file\n",
            "\n",
            "Using /usr/local/lib/python3.6/dist-packages\n",
            "Searching for scipy==1.3.0\n",
            "Best match: scipy 1.3.0\n",
            "Adding scipy 1.3.0 to easy-install.pth file\n",
            "\n",
            "Using /usr/local/lib/python3.6/dist-packages\n",
            "Searching for h5py==2.8.0\n",
            "Best match: h5py 2.8.0\n",
            "Adding h5py 2.8.0 to easy-install.pth file\n",
            "\n",
            "Using /usr/local/lib/python3.6/dist-packages\n",
            "Searching for Markdown==3.1\n",
            "Best match: Markdown 3.1\n",
            "Adding Markdown 3.1 to easy-install.pth file\n",
            "Installing markdown_py script to /usr/local/bin\n",
            "\n",
            "Using /usr/local/lib/python3.6/dist-packages\n",
            "Searching for Werkzeug==0.15.4\n",
            "Best match: Werkzeug 0.15.4\n",
            "Adding Werkzeug 0.15.4 to easy-install.pth file\n",
            "\n",
            "Using /usr/local/lib/python3.6/dist-packages\n",
            "Searching for mock==3.0.5\n",
            "Best match: mock 3.0.5\n",
            "Adding mock 3.0.5 to easy-install.pth file\n",
            "\n",
            "Using /usr/local/lib/python3.6/dist-packages\n",
            "Searching for setuptools==41.0.1\n",
            "Best match: setuptools 41.0.1\n",
            "Adding setuptools 41.0.1 to easy-install.pth file\n",
            "Installing easy_install script to /usr/local/bin\n",
            "Installing easy_install-3.6 script to /usr/local/bin\n",
            "\n",
            "Using /usr/local/lib/python3.6/dist-packages\n",
            "Finished processing dependencies for sng==0.3.2\n"
          ],
          "name": "stdout"
        }
      ]
    },
    {
      "cell_type": "code",
      "metadata": {
        "id": "tmzb_7LT3gyo",
        "colab_type": "code",
        "colab": {
          "base_uri": "https://localhost:8080/",
          "height": 204
        },
        "outputId": "66fe8c2e-1894-457a-f2ef-7102e72854d0"
      },
      "source": [
        "%load_ext autoreload\n",
        "%autoreload 2\n",
        "# While the sng package is not installed, add the package's path\n",
        "# (the parent directory) to the library path:\n",
        "\n",
        "import os\n",
        "import sys\n",
        "sys.path.insert(0, os.path.abspath('../../'))\n",
        "import sng\n",
        "cfg = sng.Config(\n",
        "    epochs=50\n",
        ")\n",
        "cfg.to_dict()\n",
        "sng.show_builtin_wordlists()"
      ],
      "execution_count": 2,
      "outputs": [
        {
          "output_type": "stream",
          "text": [
            "Using TensorFlow backend.\n"
          ],
          "name": "stderr"
        },
        {
          "output_type": "execute_result",
          "data": {
            "text/plain": [
              "['behemoth.txt',\n",
              " 'pokemon.txt',\n",
              " 'german.txt',\n",
              " 'french.txt',\n",
              " 'black-speech.txt',\n",
              " 'lorem-ipsum.txt',\n",
              " 'greek.txt',\n",
              " 'latin.txt',\n",
              " 'gallic.txt',\n",
              " 'english.txt']"
            ]
          },
          "metadata": {
            "tags": []
          },
          "execution_count": 2
        }
      ]
    },
    {
      "cell_type": "code",
      "metadata": {
        "id": "tokKjJ4Tl2mf",
        "colab_type": "code",
        "colab": {}
      },
      "source": [
        "cp -R /content/startup-name-generator/sng/wordlists/ /content/"
      ],
      "execution_count": 0,
      "outputs": []
    },
    {
      "cell_type": "code",
      "metadata": {
        "id": "dk3v3Cuk3_PH",
        "colab_type": "code",
        "colab": {
          "base_uri": "https://localhost:8080/",
          "height": 34
        },
        "outputId": "17af4ea9-8e4d-4113-8ce5-92297b205a9c"
      },
      "source": [
        "latin = sng.load_builtin_wordlist('/content/wordlists/english.txt')\n",
        "latin[:5]"
      ],
      "execution_count": 20,
      "outputs": [
        {
          "output_type": "execute_result",
          "data": {
            "text/plain": [
              "['alice', 's', 'adventures', 'in', 'wonderland']"
            ]
          },
          "metadata": {
            "tags": []
          },
          "execution_count": 20
        }
      ]
    },
    {
      "cell_type": "code",
      "metadata": {
        "id": "i3-OVR4q3_02",
        "colab_type": "code",
        "colab": {
          "base_uri": "https://localhost:8080/",
          "height": 221
        },
        "outputId": "41dd377d-1b53-400a-aa5a-091d5cf19d80"
      },
      "source": [
        "gen = sng.Generator(wordlist=latin, config=cfg)\n",
        "gen.fit()"
      ],
      "execution_count": 21,
      "outputs": [
        {
          "output_type": "stream",
          "text": [
            "2577 words\n",
            "\n",
            "28 characters, including the \\n:\n",
            "['\\n', '\\x1a', 'a', 'b', 'c', 'd', 'e', 'f', 'g', 'h', 'i', 'j', 'k', 'l', 'm', 'n', 'o', 'p', 'q', 'r', 's', 't', 'u', 'v', 'w', 'x', 'y', 'z']\n",
            "\n",
            "First two sample words:\n",
            "['clinging\\n', 'wink\\n']\n",
            "epoch 0 words: Qdastegy, Qgoyede, Lpks, Gygileeen, loss: 1.5345\n",
            "epoch 10 words: Aipn, Aodtw, Uttated, Kesouuya, loss: 1.2317\n",
            "epoch 20 words: Uunrer, Uhonpd, Vhiwpe, Lsew, loss: 1.1175\n",
            "epoch 30 words: Nave, Ieze, Rees, Crouz, loss: 1.055\n",
            "epoch 40 words: Ubillow, Qoau, Eatter, Oror, loss: 1.0049\n"
          ],
          "name": "stdout"
        }
      ]
    },
    {
      "cell_type": "code",
      "metadata": {
        "id": "dhk09STP4WSp",
        "colab_type": "code",
        "colab": {}
      },
      "source": [
        "testToShow = gen.simulate(n=500)\n",
        "# print(testToShow)\n",
        "\n",
        "with open(\"/content/output.txt\", \"w\") as f:   # Opens file and casts as f \n",
        "    f.write(str(testToShow))       # Writing\n",
        "    f.close()                                   # Close file"
      ],
      "execution_count": 0,
      "outputs": []
    },
    {
      "cell_type": "code",
      "metadata": {
        "id": "rvGqCSLPcKSb",
        "colab_type": "code",
        "colab": {}
      },
      "source": [
        "from google.colab import files\n",
        "files.download('/content/output.txt') "
      ],
      "execution_count": 0,
      "outputs": []
    }
  ]
}