{
  "nbformat": 4,
  "nbformat_minor": 0,
  "metadata": {
    "colab": {
      "name": "NeuralNamer.ipynb",
      "version": "0.3.2",
      "provenance": [],
      "include_colab_link": true
    },
    "kernelspec": {
      "name": "python3",
      "display_name": "Python 3"
    }
  },
  "cells": [
    {
      "cell_type": "markdown",
      "metadata": {
        "id": "view-in-github",
        "colab_type": "text"
      },
      "source": [
        "<a href=\"https://colab.research.google.com/github/Xynnect/MashineLearningGoogleColabs/blob/master/NeuralNamer.ipynb\" target=\"_parent\"><img src=\"https://colab.research.google.com/assets/colab-badge.svg\" alt=\"Open In Colab\"/></a>"
      ]
    },
    {
      "cell_type": "code",
      "metadata": {
        "id": "lIt1oFv4114x",
        "colab_type": "code",
        "colab": {}
      },
      "source": [
        "!git clone https://github.com/AlexEngelhardt/startup-name-generator.git\n",
        "%cd startup-name-generator\n",
        "!python setup.py install"
      ],
      "execution_count": 0,
      "outputs": []
    },
    {
      "cell_type": "code",
      "metadata": {
        "id": "tmzb_7LT3gyo",
        "colab_type": "code",
        "colab": {}
      },
      "source": [
        "%load_ext autoreload\n",
        "%autoreload 2\n",
        "# While the sng package is not installed, add the package's path\n",
        "# (the parent directory) to the library path:\n",
        "\n",
        "import os\n",
        "import sys\n",
        "sys.path.insert(0, os.path.abspath('../../'))\n",
        "import sng\n",
        "cfg = sng.Config(\n",
        "    epochs=50\n",
        ")\n",
        "cfg.to_dict()\n",
        "sng.show_builtin_wordlists()"
      ],
      "execution_count": 0,
      "outputs": []
    },
    {
      "cell_type": "code",
      "metadata": {
        "id": "tokKjJ4Tl2mf",
        "colab_type": "code",
        "colab": {}
      },
      "source": [
        "cp -R /content/startup-name-generator/sng/wordlists/ /content/"
      ],
      "execution_count": 0,
      "outputs": []
    },
    {
      "cell_type": "code",
      "metadata": {
        "id": "dk3v3Cuk3_PH",
        "colab_type": "code",
        "colab": {}
      },
      "source": [
        "latin = sng.load_builtin_wordlist('/content/wordlists/Ivan.txt')\n",
        "latin[:5]"
      ],
      "execution_count": 0,
      "outputs": []
    },
    {
      "cell_type": "code",
      "metadata": {
        "id": "i3-OVR4q3_02",
        "colab_type": "code",
        "colab": {}
      },
      "source": [
        "gen = sng.Generator(wordlist=latin, config=cfg)\n",
        "gen.fit()"
      ],
      "execution_count": 0,
      "outputs": []
    },
    {
      "cell_type": "code",
      "metadata": {
        "id": "dhk09STP4WSp",
        "colab_type": "code",
        "colab": {}
      },
      "source": [
        "testToShow = gen.simulate(n=500)\n",
        "# print(testToShow)\n",
        "\n",
        "with open(\"/content/output.txt\", \"w\") as f:   # Opens file and casts as f \n",
        "    f.write(str(testToShow))       # Writing\n",
        "    f.close()                                   # Close file"
      ],
      "execution_count": 0,
      "outputs": []
    },
    {
      "cell_type": "code",
      "metadata": {
        "id": "rvGqCSLPcKSb",
        "colab_type": "code",
        "colab": {}
      },
      "source": [
        "from google.colab import files\n",
        "files.download('/content/output.txt') "
      ],
      "execution_count": 0,
      "outputs": []
    }
  ]
}