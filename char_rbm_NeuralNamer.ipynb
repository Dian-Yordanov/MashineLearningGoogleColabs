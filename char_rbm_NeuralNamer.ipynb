{
  "nbformat": 4,
  "nbformat_minor": 0,
  "metadata": {
    "colab": {
      "name": "char-rbm-NeuralNamer.ipynb",
      "version": "0.3.2",
      "provenance": [],
      "collapsed_sections": [],
      "include_colab_link": true
    },
    "kernelspec": {
      "name": "python2",
      "display_name": "Python 2"
    }
  },
  "cells": [
    {
      "cell_type": "markdown",
      "metadata": {
        "id": "view-in-github",
        "colab_type": "text"
      },
      "source": [
        "<a href=\"https://colab.research.google.com/github/Xynnect/MashineLearningGoogleColabs/blob/master/char_rbm_NeuralNamer.ipynb\" target=\"_parent\"><img src=\"https://colab.research.google.com/assets/colab-badge.svg\" alt=\"Open In Colab\"/></a>"
      ]
    },
    {
      "cell_type": "code",
      "metadata": {
        "id": "NkBNZ1cTrV3Y",
        "colab_type": "code",
        "colab": {
          "base_uri": "https://localhost:8080/",
          "height": 34
        },
        "outputId": "a394ff30-06bb-446d-c8ff-d63f1b5cca22"
      },
      "source": [
        "!git clone https://github.com/colinmorris/char-rbm.git"
      ],
      "execution_count": 1,
      "outputs": [
        {
          "output_type": "stream",
          "text": [
            "fatal: destination path 'char-rbm' already exists and is not an empty directory.\n"
          ],
          "name": "stdout"
        }
      ]
    },
    {
      "cell_type": "code",
      "metadata": {
        "id": "52rTwA4bsZu5",
        "colab_type": "code",
        "colab": {
          "base_uri": "https://localhost:8080/",
          "height": 34
        },
        "outputId": "1915f2f9-9150-4a7f-e74e-07dbd61adbd9"
      },
      "source": [
        "%cd char-rbm/"
      ],
      "execution_count": 2,
      "outputs": [
        {
          "output_type": "stream",
          "text": [
            "/content/char-rbm\n"
          ],
          "name": "stdout"
        }
      ]
    },
    {
      "cell_type": "code",
      "metadata": {
        "id": "E2ijEILcqvE-",
        "colab_type": "code",
        "colab": {
          "base_uri": "https://localhost:8080/",
          "height": 204
        },
        "outputId": "a042f8c8-06ed-4888-ac9b-9d5e092d05d6"
      },
      "source": [
        "!wget http://www.cs.cmu.edu/afs/cs/project/ai-repository/ai/areas/nlp/corpora/names/other/names.txt"
      ],
      "execution_count": 3,
      "outputs": [
        {
          "output_type": "stream",
          "text": [
            "--2019-05-23 17:20:39--  http://www.cs.cmu.edu/afs/cs/project/ai-repository/ai/areas/nlp/corpora/names/other/names.txt\n",
            "Resolving www.cs.cmu.edu (www.cs.cmu.edu)... 128.2.42.95\n",
            "Connecting to www.cs.cmu.edu (www.cs.cmu.edu)|128.2.42.95|:80... connected.\n",
            "HTTP request sent, awaiting response... 200 OK\n",
            "Length: 443528 (433K) [text/plain]\n",
            "Saving to: ‘names.txt.1’\n",
            "\n",
            "names.txt.1         100%[===================>] 433.13K   222KB/s    in 1.9s    \n",
            "\n",
            "2019-05-23 17:20:41 (222 KB/s) - ‘names.txt.1’ saved [443528/443528]\n",
            "\n"
          ],
          "name": "stdout"
        }
      ]
    },
    {
      "cell_type": "code",
      "metadata": {
        "id": "DDLwL3BOt-96",
        "colab_type": "code",
        "colab": {
          "base_uri": "https://localhost:8080/",
          "height": 238
        },
        "outputId": "32e7630a-ef8f-4486-a263-9edcbc6325cb"
      },
      "source": [
        "!pip install -r requirements.txt"
      ],
      "execution_count": 6,
      "outputs": [
        {
          "output_type": "stream",
          "text": [
            "Collecting scikit-learn==0.17.1 (from -r requirements.txt (line 1))\n",
            "\u001b[?25l  Downloading https://files.pythonhosted.org/packages/bf/80/06e77e5a682c46a3880ec487a5f9d910f5c8d919df9aca58052089687c7e/scikit_learn-0.17.1-cp27-cp27mu-manylinux1_x86_64.whl (17.6MB)\n",
            "\u001b[K     |████████████████████████████████| 17.6MB 1.3MB/s \n",
            "\u001b[?25hRequirement already satisfied: enum34==1.1.6 in /usr/local/lib/python2.7/dist-packages (from -r requirements.txt (line 2)) (1.1.6)\n",
            "\u001b[31mERROR: mlxtend 0.14.0 has requirement scikit-learn>=0.18, but you'll have scikit-learn 0.17.1 which is incompatible.\u001b[0m\n",
            "\u001b[31mERROR: fancyimpute 0.4.3 has requirement scikit-learn>=0.19.1, but you'll have scikit-learn 0.17.1 which is incompatible.\u001b[0m\n",
            "\u001b[31mERROR: imbalanced-learn 0.4.3 has requirement scikit-learn>=0.20, but you'll have scikit-learn 0.17.1 which is incompatible.\u001b[0m\n",
            "\u001b[31mERROR: yellowbrick 0.9.1 has requirement scikit-learn>=0.20, but you'll have scikit-learn 0.17.1 which is incompatible.\u001b[0m\n",
            "Installing collected packages: scikit-learn\n",
            "  Found existing installation: scikit-learn 0.20.3\n",
            "    Uninstalling scikit-learn-0.20.3:\n",
            "      Successfully uninstalled scikit-learn-0.20.3\n",
            "Successfully installed scikit-learn-0.17.1\n"
          ],
          "name": "stdout"
        }
      ]
    },
    {
      "cell_type": "code",
      "metadata": {
        "id": "kjmgd4RcrNxL",
        "colab_type": "code",
        "colab": {
          "base_uri": "https://localhost:8080/",
          "height": 323
        },
        "outputId": "eda5efd2-31a0-42e2-e510-e499ee45e591"
      },
      "source": [
        "!python train.py --maxlen 10 --extra-chars '' --hid 100 names.txt"
      ],
      "execution_count": 7,
      "outputs": [
        {
          "output_type": "stream",
          "text": [
            "Training data shape : (54015, 270)\n",
            "[CharBernoulliRBMSoftmax] Iteration 1/5\tt = 10.10s\n",
            "Pseudo-log-likelihood sum: -142467.26\tAverage per instance: -2.64\n",
            "E(vali):\t-9.38\tE(train):\t-9.67\tdifference: 0.29\n",
            "Fantasy samples: soane$$$$$|martien$$$|harter$$$$\n",
            "[CharBernoulliRBMSoftmax] Iteration 2/5\tt = 10.89s\n",
            "Pseudo-log-likelihood sum: -125947.59\tAverage per instance: -2.33\n",
            "E(vali):\t-11.57\tE(train):\t-11.87\tdifference: 0.30\n",
            "Fantasy samples: kiatler$$$|milla$$$$$|demine$$$$\n",
            "[CharBernoulliRBMSoftmax] Iteration 3/5\tt = 10.79s\n",
            "Pseudo-log-likelihood sum: -115174.09\tAverage per instance: -2.13\n",
            "E(vali):\t-11.88\tE(train):\t-12.09\tdifference: 0.21\n",
            "Fantasy samples: mallen$$$$|bale$$$$$$|lalaron$$$\n",
            "[CharBernoulliRBMSoftmax] Iteration 4/5\tt = 10.38s\n",
            "Pseudo-log-likelihood sum: -107415.77\tAverage per instance: -1.99\n",
            "E(vali):\t-15.21\tE(train):\t-15.53\tdifference: 0.32\n",
            "Fantasy samples: ancelron$$|cher$$$$$$|wallmand$$\n",
            "Wrote model to names__nh100.pickle\n"
          ],
          "name": "stdout"
        }
      ]
    },
    {
      "cell_type": "code",
      "metadata": {
        "id": "ME6MCMtnvja9",
        "colab_type": "code",
        "colab": {
          "base_uri": "https://localhost:8080/",
          "height": 85
        },
        "outputId": "ca0c8265-ce9e-4911-95c6-ca37657cf7d6"
      },
      "source": [
        "!pip install colorama"
      ],
      "execution_count": 9,
      "outputs": [
        {
          "output_type": "stream",
          "text": [
            "Collecting colorama\n",
            "  Downloading https://files.pythonhosted.org/packages/4f/a6/728666f39bfff1719fc94c481890b2106837da9318031f71a8424b662e12/colorama-0.4.1-py2.py3-none-any.whl\n",
            "Installing collected packages: colorama\n",
            "Successfully installed colorama-0.4.1\n"
          ],
          "name": "stdout"
        }
      ]
    },
    {
      "cell_type": "code",
      "metadata": {
        "id": "y45Y8s55rN7j",
        "colab_type": "code",
        "colab": {
          "base_uri": "https://localhost:8080/",
          "height": 527
        },
        "outputId": "59c18136-3b02-4d19-8450-d47545bbdd2e"
      },
      "source": [
        "!python sample.py names__nh100.pickle"
      ],
      "execution_count": 11,
      "outputs": [
        {
          "output_type": "stream",
          "text": [
            "decherd     \n",
            "hiskher     \n",
            "bok         \n",
            "jikay       \n",
            "tills       \n",
            "sherhars    \n",
            "swanner     \n",
            "mchree      \n",
            "codh        \n",
            "buma        \n",
            "focnerx     \n",
            "miuhler     \n",
            "laya        \n",
            "reics       \n",
            "sherler     \n",
            "lofa        \n",
            "spanles     \n",
            "colliz      \n",
            "wilb        \n",
            "carcia      \n",
            "splener     \n",
            "spange      \n",
            "hoatht      \n",
            "wipkqowsci  \n",
            "hecel       \n",
            "priver      \n",
            "weach       \n",
            "wetth       \n",
            "heghjer     \n",
            "rip         \n",
            "\u001b[0m"
          ],
          "name": "stdout"
        }
      ]
    },
    {
      "cell_type": "code",
      "metadata": {
        "id": "SF6fi5fMrOAs",
        "colab_type": "code",
        "colab": {}
      },
      "source": [
        ""
      ],
      "execution_count": 0,
      "outputs": []
    },
    {
      "cell_type": "code",
      "metadata": {
        "id": "K-xrmuw5rOEW",
        "colab_type": "code",
        "colab": {}
      },
      "source": [
        ""
      ],
      "execution_count": 0,
      "outputs": []
    },
    {
      "cell_type": "code",
      "metadata": {
        "id": "YmeLpqPErN-v",
        "colab_type": "code",
        "colab": {}
      },
      "source": [
        ""
      ],
      "execution_count": 0,
      "outputs": []
    },
    {
      "cell_type": "code",
      "metadata": {
        "id": "kaBOvQeNrN42",
        "colab_type": "code",
        "colab": {}
      },
      "source": [
        ""
      ],
      "execution_count": 0,
      "outputs": []
    }
  ]
}